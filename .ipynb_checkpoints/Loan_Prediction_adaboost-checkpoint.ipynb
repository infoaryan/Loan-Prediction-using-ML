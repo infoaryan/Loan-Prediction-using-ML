{
 "cells": [
  {
   "cell_type": "markdown",
   "metadata": {},
   "source": [
    "## Loading and Analysis of data"
   ]
  },
  {
   "cell_type": "code",
   "execution_count": 65,
   "metadata": {},
   "outputs": [],
   "source": [
    "import matplotlib.pyplot as plt\n",
    "import numpy as np\n",
    "import pandas as pd"
   ]
  },
  {
   "cell_type": "code",
   "execution_count": 66,
   "metadata": {},
   "outputs": [
    {
     "name": "stdout",
     "output_type": "stream",
     "text": [
      "<class 'pandas.core.frame.DataFrame'>\n",
      "Index: 614 entries, LP001002 to LP002990\n",
      "Data columns (total 12 columns):\n",
      " #   Column             Non-Null Count  Dtype  \n",
      "---  ------             --------------  -----  \n",
      " 0   Gender             601 non-null    object \n",
      " 1   Married            611 non-null    object \n",
      " 2   Dependents         599 non-null    object \n",
      " 3   Education          614 non-null    object \n",
      " 4   Self_Employed      582 non-null    object \n",
      " 5   ApplicantIncome    614 non-null    int64  \n",
      " 6   CoapplicantIncome  614 non-null    float64\n",
      " 7   LoanAmount         592 non-null    float64\n",
      " 8   Loan_Amount_Term   600 non-null    float64\n",
      " 9   Credit_History     564 non-null    float64\n",
      " 10  Property_Area      614 non-null    object \n",
      " 11  Loan_Status        614 non-null    object \n",
      "dtypes: float64(4), int64(1), object(7)\n",
      "memory usage: 62.4+ KB\n"
     ]
    }
   ],
   "source": [
    "train_raw = pd.read_csv('train.csv',index_col='Loan_ID')\n",
    "test_main = pd.read_csv('test.csv',index_col='Loan_ID')\n",
    "train_raw.info()\n"
   ]
  },
  {
   "cell_type": "markdown",
   "metadata": {},
   "source": [
    "## Separating the output column and processing data\n",
    "After separating output column both the data will be appended and preprocessing will be done"
   ]
  },
  {
   "cell_type": "code",
   "execution_count": 67,
   "metadata": {},
   "outputs": [],
   "source": [
    "#Taking the label encoded values in y \n",
    "y = train_raw.Loan_Status.map({'Y':1,'N':0})\n",
    "train_raw.drop('Loan_Status',inplace=True,axis=1)"
   ]
  },
  {
   "cell_type": "code",
   "execution_count": 68,
   "metadata": {},
   "outputs": [
    {
     "data": {
      "text/html": [
       "<div>\n",
       "<style scoped>\n",
       "    .dataframe tbody tr th:only-of-type {\n",
       "        vertical-align: middle;\n",
       "    }\n",
       "\n",
       "    .dataframe tbody tr th {\n",
       "        vertical-align: top;\n",
       "    }\n",
       "\n",
       "    .dataframe thead th {\n",
       "        text-align: right;\n",
       "    }\n",
       "</style>\n",
       "<table border=\"1\" class=\"dataframe\">\n",
       "  <thead>\n",
       "    <tr style=\"text-align: right;\">\n",
       "      <th></th>\n",
       "      <th>Gender</th>\n",
       "      <th>Married</th>\n",
       "      <th>Dependents</th>\n",
       "      <th>Education</th>\n",
       "      <th>Self_Employed</th>\n",
       "      <th>ApplicantIncome</th>\n",
       "      <th>CoapplicantIncome</th>\n",
       "      <th>LoanAmount</th>\n",
       "      <th>Loan_Amount_Term</th>\n",
       "      <th>Credit_History</th>\n",
       "      <th>Property_Area</th>\n",
       "    </tr>\n",
       "    <tr>\n",
       "      <th>Loan_ID</th>\n",
       "      <th></th>\n",
       "      <th></th>\n",
       "      <th></th>\n",
       "      <th></th>\n",
       "      <th></th>\n",
       "      <th></th>\n",
       "      <th></th>\n",
       "      <th></th>\n",
       "      <th></th>\n",
       "      <th></th>\n",
       "      <th></th>\n",
       "    </tr>\n",
       "  </thead>\n",
       "  <tbody>\n",
       "    <tr>\n",
       "      <th>LP001002</th>\n",
       "      <td>Male</td>\n",
       "      <td>No</td>\n",
       "      <td>0</td>\n",
       "      <td>Graduate</td>\n",
       "      <td>No</td>\n",
       "      <td>5849</td>\n",
       "      <td>0.0</td>\n",
       "      <td>NaN</td>\n",
       "      <td>360.0</td>\n",
       "      <td>1.0</td>\n",
       "      <td>Urban</td>\n",
       "    </tr>\n",
       "    <tr>\n",
       "      <th>LP001003</th>\n",
       "      <td>Male</td>\n",
       "      <td>Yes</td>\n",
       "      <td>1</td>\n",
       "      <td>Graduate</td>\n",
       "      <td>No</td>\n",
       "      <td>4583</td>\n",
       "      <td>1508.0</td>\n",
       "      <td>128.0</td>\n",
       "      <td>360.0</td>\n",
       "      <td>1.0</td>\n",
       "      <td>Rural</td>\n",
       "    </tr>\n",
       "    <tr>\n",
       "      <th>LP001005</th>\n",
       "      <td>Male</td>\n",
       "      <td>Yes</td>\n",
       "      <td>0</td>\n",
       "      <td>Graduate</td>\n",
       "      <td>Yes</td>\n",
       "      <td>3000</td>\n",
       "      <td>0.0</td>\n",
       "      <td>66.0</td>\n",
       "      <td>360.0</td>\n",
       "      <td>1.0</td>\n",
       "      <td>Urban</td>\n",
       "    </tr>\n",
       "    <tr>\n",
       "      <th>LP001006</th>\n",
       "      <td>Male</td>\n",
       "      <td>Yes</td>\n",
       "      <td>0</td>\n",
       "      <td>Not Graduate</td>\n",
       "      <td>No</td>\n",
       "      <td>2583</td>\n",
       "      <td>2358.0</td>\n",
       "      <td>120.0</td>\n",
       "      <td>360.0</td>\n",
       "      <td>1.0</td>\n",
       "      <td>Urban</td>\n",
       "    </tr>\n",
       "    <tr>\n",
       "      <th>LP001008</th>\n",
       "      <td>Male</td>\n",
       "      <td>No</td>\n",
       "      <td>0</td>\n",
       "      <td>Graduate</td>\n",
       "      <td>No</td>\n",
       "      <td>6000</td>\n",
       "      <td>0.0</td>\n",
       "      <td>141.0</td>\n",
       "      <td>360.0</td>\n",
       "      <td>1.0</td>\n",
       "      <td>Urban</td>\n",
       "    </tr>\n",
       "  </tbody>\n",
       "</table>\n",
       "</div>"
      ],
      "text/plain": [
       "         Gender Married Dependents     Education Self_Employed  \\\n",
       "Loan_ID                                                          \n",
       "LP001002   Male      No          0      Graduate            No   \n",
       "LP001003   Male     Yes          1      Graduate            No   \n",
       "LP001005   Male     Yes          0      Graduate           Yes   \n",
       "LP001006   Male     Yes          0  Not Graduate            No   \n",
       "LP001008   Male      No          0      Graduate            No   \n",
       "\n",
       "          ApplicantIncome  CoapplicantIncome  LoanAmount  Loan_Amount_Term  \\\n",
       "Loan_ID                                                                      \n",
       "LP001002             5849                0.0         NaN             360.0   \n",
       "LP001003             4583             1508.0       128.0             360.0   \n",
       "LP001005             3000                0.0        66.0             360.0   \n",
       "LP001006             2583             2358.0       120.0             360.0   \n",
       "LP001008             6000                0.0       141.0             360.0   \n",
       "\n",
       "          Credit_History Property_Area  \n",
       "Loan_ID                                 \n",
       "LP001002             1.0         Urban  \n",
       "LP001003             1.0         Rural  \n",
       "LP001005             1.0         Urban  \n",
       "LP001006             1.0         Urban  \n",
       "LP001008             1.0         Urban  "
      ]
     },
     "execution_count": 68,
     "metadata": {},
     "output_type": "execute_result"
    }
   ],
   "source": [
    "rown_train_data = train_raw.shape[0]\n",
    "#appending both the data\n",
    "X = train_raw.append(test_raw)\n",
    "X.head()"
   ]
  },
  {
   "cell_type": "code",
   "execution_count": 69,
   "metadata": {},
   "outputs": [
    {
     "name": "stdout",
     "output_type": "stream",
     "text": [
      "['Male' 'Female' nan]\n",
      "['No' 'Yes' nan]\n",
      "['0' '1' '2' '3+' nan]\n",
      "['Graduate' 'Not Graduate']\n",
      "['No' 'Yes' nan]\n",
      "['Urban' 'Rural' 'Semiurban']\n"
     ]
    }
   ],
   "source": [
    "objList = X.select_dtypes(include = \"object\").columns\n",
    "for obj_Column in objList:\n",
    "    print(X[obj_Column].unique())\n"
   ]
  },
  {
   "cell_type": "markdown",
   "metadata": {},
   "source": [
    "## Label encoding the categorial faetures\n",
    "As the values also contain NAN so there will be selective label encoding followed by imputing"
   ]
  },
  {
   "cell_type": "code",
   "execution_count": 72,
   "metadata": {},
   "outputs": [
    {
     "name": "stdout",
     "output_type": "stream",
     "text": [
      "          Gender  Married  Dependents  Education  Self_Employed  \\\n",
      "Loan_ID                                                           \n",
      "LP001002     1.0      0.0         0.0          0            0.0   \n",
      "LP001003     1.0      1.0         1.0          0            0.0   \n",
      "LP001005     1.0      1.0         0.0          0            1.0   \n",
      "LP001006     1.0      1.0         0.0          1            0.0   \n",
      "LP001008     1.0      0.0         0.0          0            0.0   \n",
      "...          ...      ...         ...        ...            ...   \n",
      "LP002971     1.0      1.0         3.0          1            1.0   \n",
      "LP002975     1.0      1.0         0.0          0            0.0   \n",
      "LP002980     1.0      0.0         0.0          0            0.0   \n",
      "LP002986     1.0      1.0         0.0          0            0.0   \n",
      "LP002989     1.0      0.0         0.0          0            1.0   \n",
      "\n",
      "          ApplicantIncome  CoapplicantIncome  LoanAmount  Loan_Amount_Term  \\\n",
      "Loan_ID                                                                      \n",
      "LP001002              574                  0         NaN              10.0   \n",
      "LP001003              467                 92        89.0              10.0   \n",
      "LP001005              216                  0        30.0              10.0   \n",
      "LP001006              144                230        81.0              10.0   \n",
      "LP001008              580                  0       102.0              10.0   \n",
      "...                   ...                ...         ...               ...   \n",
      "LP002971              402                139        74.0              10.0   \n",
      "LP002975              418                 22        76.0              10.0   \n",
      "LP002980              268                172        87.0              10.0   \n",
      "LP002986              515                239       119.0              10.0   \n",
      "LP002989              671                  0        59.0               6.0   \n",
      "\n",
      "          Credit_History  Property_Area  \n",
      "Loan_ID                                  \n",
      "LP001002             1.0              2  \n",
      "LP001003             1.0              0  \n",
      "LP001005             1.0              2  \n",
      "LP001006             1.0              2  \n",
      "LP001008             1.0              2  \n",
      "...                  ...            ...  \n",
      "LP002971             1.0              2  \n",
      "LP002975             1.0              2  \n",
      "LP002980             NaN              1  \n",
      "LP002986             1.0              0  \n",
      "LP002989             1.0              0  \n",
      "\n",
      "[981 rows x 11 columns]\n"
     ]
    }
   ],
   "source": [
    "# Encoders for the training data\n",
    "encoders = dict()\n",
    "\n",
    "for col_name in X.columns:\n",
    "        series = X[col_name]\n",
    "        label_encoder = LabelEncoder()\n",
    "        X[col_name] = pd.Series(\n",
    "            label_encoder.fit_transform(series[series.notnull()]),\n",
    "            index=series[series.notnull()].index\n",
    "        )\n",
    "        encoders[col_name] = label_encoder\n",
    "\n",
    "X.info()\n"
   ]
  },
  {
   "cell_type": "code",
   "execution_count": 75,
   "metadata": {},
   "outputs": [],
   "source": [
    "from sklearn.impute import SimpleImputer\n",
    "\n",
    "imputer = SimpleImputer(strategy='median')\n",
    "X = imputer.fit_transform(X)\n",
    "\n",
    "#Converting again to dataframe\n",
    "X = pd.DataFrame(X)\n"
   ]
  },
  {
   "cell_type": "markdown",
   "metadata": {},
   "source": [
    "## Splitting the data into train and validation sets "
   ]
  },
  {
   "cell_type": "code",
   "execution_count": 80,
   "metadata": {},
   "outputs": [],
   "source": [
    "train_X = X.iloc[:rown_train_data,]\n",
    "final_testing_data = X.iloc[rown_train_data:,]\n",
    "seed=7\n",
    "#getting columns back \n",
    "train_X.columns = test_raw.columns \n",
    "from sklearn.model_selection import train_test_split\n",
    "train_X,test_X,train_y,test_y = train_test_split(train_X,y,random_state=seed)"
   ]
  },
  {
   "cell_type": "markdown",
   "metadata": {},
   "source": [
    "# Robustly checking for which algorithm will perform best here"
   ]
  },
  {
   "cell_type": "code",
   "execution_count": 107,
   "metadata": {},
   "outputs": [],
   "source": [
    "from sklearn.linear_model import LogisticRegression\n",
    "from sklearn.tree import DecisionTreeClassifier\n",
    "from sklearn.svm import SVC\n",
    "from sklearn.ensemble import RandomForestClassifier\n",
    "\n",
    "models=[]\n",
    "models.append((\"logreg\",LogisticRegression()))\n",
    "models.append((\"tree\",DecisionTreeClassifier()))\n",
    "models.append((\"svc\",SVC()))\n",
    "models.append((\"rndf\",RandomForestClassifier()))\n",
    "\n",
    "from sklearn.model_selection import KFold \n",
    "from sklearn.model_selection import cross_val_score\n",
    "result=[]\n",
    "name=[]"
   ]
  },
  {
   "cell_type": "code",
   "execution_count": null,
   "metadata": {},
   "outputs": [],
   "source": [
    "\n",
    "for name,model in models:\n",
    "    cv_result=cross_val_score(model,train_X,train_y,cv=10,scoring='accuracy')\n",
    "    result.append(cv_result.mean())\n",
    "    names.append(name)\n",
    "\n",
    "#printing all the results\n",
    "for result,name in zip(name,result):\n",
    "    print(name)\n",
    "    print(result)"
   ]
  },
  {
   "cell_type": "markdown",
   "metadata": {},
   "source": [
    "## Conclusion : Logistic Regression and Random Forest perform equally well\n",
    "Hence Ada boosting with the Random Forest Classifier : hyper parameter optimised "
   ]
  },
  {
   "cell_type": "code",
   "execution_count": 166,
   "metadata": {},
   "outputs": [
    {
     "name": "stdout",
     "output_type": "stream",
     "text": [
      "Score for estimator 20 train data0.8956521739130435\n",
      "Test data 0.8116883116883117\n",
      "Score for estimator 30 train data0.9347826086956522\n",
      "Test data 0.8181818181818182\n",
      "Score for estimator 40 train data0.9695652173913043\n",
      "Test data 0.7857142857142857\n",
      "Score for estimator 45 train data0.9717391304347827\n",
      "Test data 0.8051948051948052\n",
      "Score for estimator 50 train data0.9804347826086957\n",
      "Test data 0.8051948051948052\n",
      "Score for estimator 55 train data0.9847826086956522\n",
      "Test data 0.8116883116883117\n",
      "Score for estimator 60 train data0.9869565217391304\n",
      "Test data 0.7987012987012987\n",
      "Score for estimator 70 train data0.991304347826087\n",
      "Test data 0.8051948051948052\n",
      "Score for estimator 100 train data0.9978260869565218\n",
      "Test data 0.8051948051948052\n",
      "Score for estimator 150 train data1.0\n",
      "Test data 0.8116883116883117\n"
     ]
    }
   ],
   "source": [
    "from sklearn.ensemble import AdaBoostClassifier\n",
    "check = [20,30,40,45,50,55,60,70,100,150]\n",
    "for estimators in check:\n",
    "    ada_clf = AdaBoostClassifier(\n",
    "        DecisionTreeClassifier(max_depth=10,min_samples_leaf=28), n_estimators=estimators,\n",
    "        algorithm=\"SAMME.R\", learning_rate=0.25)\n",
    "    ada_clf.fit(train_X,train_y)\n",
    "    print(\"Score for estimator {} train data{}\".format(estimators,ada_clf.score(train_X,train_y)))\n",
    "    print(\"Test data {}\".format(ada_clf.score(test_X,test_y)))\n"
   ]
  },
  {
   "cell_type": "markdown",
   "metadata": {},
   "source": [
    "## Measuring the accuracy of the model"
   ]
  },
  {
   "cell_type": "code",
   "execution_count": 168,
   "metadata": {},
   "outputs": [
    {
     "name": "stdout",
     "output_type": "stream",
     "text": [
      "0.8116883116883117\n",
      "[[28 20]\n",
      " [ 9 97]]\n"
     ]
    }
   ],
   "source": [
    "from sklearn.metrics import accuracy_score\n",
    "from sklearn.metrics import confusion_matrix\n",
    "from sklearn.metrics import classification_report\n",
    "\n",
    "pred = ada_clf.predict(test_X)\n",
    "print(accuracy_score(test_y,pred))\n",
    "print(confusion_matrix(test_y,pred))"
   ]
  },
  {
   "cell_type": "code",
   "execution_count": null,
   "metadata": {},
   "outputs": [],
   "source": []
  }
 ],
 "metadata": {
  "kernelspec": {
   "display_name": "Python 3",
   "language": "python",
   "name": "python3"
  },
  "language_info": {
   "codemirror_mode": {
    "name": "ipython",
    "version": 3
   },
   "file_extension": ".py",
   "mimetype": "text/x-python",
   "name": "python",
   "nbconvert_exporter": "python",
   "pygments_lexer": "ipython3",
   "version": "3.6.9"
  }
 },
 "nbformat": 4,
 "nbformat_minor": 4
}
